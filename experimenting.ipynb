{
 "cells": [
  {
   "cell_type": "code",
   "execution_count": 1,
   "id": "6388a38c-ed83-49a9-a32f-f1fe580ba4a5",
   "metadata": {},
   "outputs": [],
   "source": [
    "import awkward as ak\n",
    "import numpy as np\n",
    "import uproot\n",
    "import hist\n",
    "import yaml\n",
    "import copy\n",
    "\n",
    "from coffea import processor\n",
    "from coffea import nanoevents\n",
    "from coffea.nanoevents.methods import candidate\n",
    "\n",
    "from coffea.analysis_tools import Weights, PackedSelection\n",
    "from coffea.lumi_tools import LumiMask\n",
    "\n",
    "\n",
    "from qawa.btag import BTVCorrector, btag_id\n",
    "from qawa.jme import JMEUncertainty, update_collection\n",
    "from qawa.common import pileup_weights, ewk_corrector, met_phi_xy_correction, theory_ps_weight, theory_pdf_weight, trigger_rules"
   ]
  },
  {
   "cell_type": "code",
   "execution_count": 2,
   "id": "65fe73f7-2b4e-425c-8815-058d6cb691c9",
   "metadata": {},
   "outputs": [],
   "source": [
    "def build_leptons(muons, electrons):\n",
    "    # select tight/loose muons\n",
    "    tight_muons_mask = (\n",
    "        (muons.pt             >  20. ) &\n",
    "        (np.abs(muons.eta)    <  2.4 ) &\n",
    "        (np.abs(muons.dxy)    <  0.02) &\n",
    "        (np.abs(muons.dz )    <  0.1 ) &\n",
    "        (muons.pfRelIso04_all <= 0.15) & \n",
    "        muons.tightId\n",
    "    )\n",
    "    tight_muons = muons[tight_muons_mask]\n",
    "    loose_muons = muons[\n",
    "        ~tight_muons_mask &\n",
    "        (muons.pt            >  7.  ) &\n",
    "        (np.abs(muons.eta)   <  2.4 ) &\n",
    "        (muons.pfRelIso04_all<= 0.15) &\n",
    "        muons.looseId   \n",
    "    ]\n",
    "    # select tight/loose electron\n",
    "    tight_electrons_mask = (\n",
    "        (electrons.pt           > 20.) &\n",
    "        (np.abs(electrons.eta)  < 2.5) &\n",
    "        electrons.mvaFall17V2Iso_WP90\n",
    "    )\n",
    "    tight_electrons = electrons[tight_electrons_mask]\n",
    "    loose_electrons = electrons[\n",
    "        ~tight_electrons_mask &\n",
    "        (electrons.pt           > 7. ) &\n",
    "        (np.abs(electrons.eta)  < 2.5) &\n",
    "        electrons.mvaFall17V2Iso_WPL\n",
    "    ]\n",
    "    # contruct a lepton object\n",
    "    tight_leptons = ak.with_name(ak.concatenate([tight_muons, tight_electrons], axis=1), 'PtEtaPhiMCandidate')\n",
    "    loose_leptons = ak.with_name(ak.concatenate([loose_muons, loose_electrons], axis=1), 'PtEtaPhiMCandidate')\n",
    "\n",
    "    return tight_leptons, loose_leptons\n",
    "\n",
    "def build_htaus(tau, lepton):\n",
    "    base = (\n",
    "        (tau.pt         > 20. ) & \n",
    "        (np.abs(tau.eta)< 2.3 ) & \n",
    "        (tau.decayMode != 5   ) & \n",
    "        (tau.decayMode != 6   )\n",
    "    )\n",
    "    overlap_leptons = ak.any(\n",
    "        tau.metric_table(lepton) <= 0.4,\n",
    "        axis=2\n",
    "    )\n",
    "    return tau[base & ~overlap_leptons]\n",
    "\n",
    "def build_photons(photons):\n",
    "    base = (\n",
    "        (photon.pt          > 20. ) & \n",
    "        (np.abs(photon.eta) < 2.5 )\n",
    "    )\n",
    "    # MVA ID\n",
    "    tight_photons = photons[base & photon.mvaID_WP90]\n",
    "    loose_photons = photons[base & photon.mvaID_WP80 & ~photon.mvaID_WP90]\n",
    "    \n",
    "    # cut based ID\n",
    "    return tight_photons, loose_photons"
   ]
  },
  {
   "cell_type": "code",
   "execution_count": 17,
   "id": "e74a4507-edaf-4e94-a042-a4a883a35e1c",
   "metadata": {},
   "outputs": [],
   "source": [
    "class zzinc_processor(processor.ProcessorABC):\n",
    "    def __init__(self,\n",
    "            model_2j: str = 'nn2j-mandalorian.onnx', \n",
    "            model_3j: str = 'nn3j-mandalorian.onnx', \n",
    "            era: str = '2018'\n",
    "        ):\n",
    "        self._era = era\n",
    "        \n",
    "        jec_tag = ''\n",
    "        jer_tag = ''\n",
    "        if self._era == '2016':\n",
    "            jec_tag = 'Summer19UL18_V5_MC'\n",
    "            jer_tag = 'Summer19UL18_JRV2_MC'\n",
    "        elif self._era == '2017':\n",
    "            jec_tag = 'Summer19UL18_V5_MC'\n",
    "            jer_tag = 'Summer19UL18_JRV2_MC'\n",
    "        elif self._era == '2018':\n",
    "            jec_tag = 'Summer19UL18_V5_MC'\n",
    "            jer_tag = 'Summer19UL18_JRV2_MC'\n",
    "        else:\n",
    "            print('error')\n",
    "        \n",
    "        self.btag_wp = 'M'\n",
    "        self.zmass = 91.1873 # GeV \n",
    "        self._btag = BTVCorrector(era=era, wp=self.btag_wp)\n",
    "        self._jmeu = JMEUncertainty(jec_tag, jer_tag)\n",
    "        self._purw = pileup_weights(era=self._era)\n",
    "        \n",
    "        \n",
    "        _data_path = 'qawa/data'\n",
    "        self._json = {\n",
    "            '2018': LumiMask(f'{_data_path}/json/{era}/Cert_314472-325175_13TeV_Legacy2018_Collisions18_JSON.txt'),\n",
    "            '2017': LumiMask(f'{_data_path}/json/{era}/Cert_294927-306462_13TeV_UL2017_Collisions17_GoldenJSON.txt'),\n",
    "            '2016': LumiMask(f'{_data_path}/json/{era}/Cert_294927-306462_13TeV_UL2017_Collisions17_GoldenJSON.txt'),\n",
    "\n",
    "        }\n",
    "        with open(f'{_data_path}/{era}-trigger-rules.yaml') as ftrig:\n",
    "            self._triggers = yaml.load(ftrig, Loader=yaml.FullLoader)\n",
    "            \n",
    "        with open(f'{_data_path}/eft-names.dat') as eft_file:\n",
    "            self._eftnames = [n.strip() for n in eft_file.readlines()]\n",
    "            \n",
    "        self.build_histos = lambda: {\n",
    "            'dilep_mt': hist.Hist(\n",
    "                hist.axis.StrCategory([], name=\"channel\"   , growth=True),\n",
    "                hist.axis.StrCategory([], name=\"systematic\", growth=True), \n",
    "                hist.axis.Regular(50, 0, 1000, name=\"dilep_mt\", label=\"$M_{T}$ (GeV)\"),\n",
    "                hist.storage.Weight()\n",
    "            ), \n",
    "            'met': hist.Hist(\n",
    "                hist.axis.StrCategory([], name=\"channel\"   , growth=True),\n",
    "                hist.axis.StrCategory([], name=\"systematic\", growth=True), \n",
    "                hist.axis.Regular(50, 0, 1000, name=\"met\", label=\"$p_{T}^{miss}$ (GeV)\"),\n",
    "                hist.storage.Weight()\n",
    "            ),\n",
    "            'njets': hist.Hist(\n",
    "                hist.axis.StrCategory([], name=\"channel\"   , growth=True),\n",
    "                hist.axis.StrCategory([], name=\"systematic\", growth=True), \n",
    "                hist.axis.Regular(5, 0, 5, name=\"njets\", label=\"$N_{jet}$ ($p_{T}>30$ GeV)\"),\n",
    "                hist.storage.Weight()\n",
    "            ), \n",
    "            'bjets': hist.Hist(\n",
    "                hist.axis.StrCategory([], name=\"channel\"   , growth=True),\n",
    "                hist.axis.StrCategory([], name=\"systematic\", growth=True), \n",
    "                hist.axis.Regular(5, 0, 5, name=\"bjets\", label=\"$N_{b-jet}$ ($p_{T}>30$ GeV)\"),\n",
    "                hist.storage.Weight()\n",
    "            ),\n",
    "            'dphi_met_ll': hist.Hist(\n",
    "                hist.axis.StrCategory([], name=\"channel\"   , growth=True),\n",
    "                hist.axis.StrCategory([], name=\"systematic\", growth=True), \n",
    "                hist.axis.Regular(50, 0, 1, name=\"dphi_met_ll\", label=\"$\\Delta \\phi(\\ell\\ell,\\vec p_{T}^{miss})/\\pi$\"),\n",
    "                hist.storage.Weight()\n",
    "            ),\n",
    "        }\n",
    "        \n",
    "    def process_shift(self, event, shift_name:str=''):\n",
    "        dataset = event.metadata['dataset']\n",
    "        is_data = event.metadata.get(\"is_data\")\n",
    "        selection = PackedSelection()\n",
    "        weights = Weights(len(event), storeIndividual=True)\n",
    "        \n",
    "        histos = self.build_histos()\n",
    "        \n",
    "        if is_data:\n",
    "            selection.add('lumimask', self._json[self._era](event.run, event.luminosityBlock))\n",
    "            selection.add('triggers', trigger_rules(event, self._triggers, self._era))\n",
    "        else:\n",
    "            selection.add('lumimask', np.ones(len(event), dtype='bool'))\n",
    "            selection.add('triggers', np.ones(len(event), dtype='bool'))\n",
    "        \n",
    "        # MET filters\n",
    "        selection.add(\n",
    "            'metfilter',\n",
    "            event.Flag.METFilters &\n",
    "            event.Flag.HBHENoiseFilter &\n",
    "            event.Flag.HBHENoiseIsoFilter & \n",
    "            event.Flag.EcalDeadCellTriggerPrimitiveFilter & \n",
    "            event.Flag.goodVertices & \n",
    "            event.Flag.eeBadScFilter & \n",
    "            event.Flag.globalTightHalo2016Filter &\n",
    "            event.Flag.BadChargedCandidateFilter & \n",
    "            event.Flag.BadPFMuonFilter\n",
    "        )\n",
    "        \n",
    "        tight_lep, loose_lep = build_leptons(\n",
    "            event.Muon,\n",
    "            event.Electron\n",
    "        )\n",
    "        \n",
    "        had_taus = build_htaus(event.Tau, tight_lep)\n",
    "        \n",
    "        ntight_lep = ak.num(tight_lep)\n",
    "        nloose_lep = ak.num(loose_lep)\n",
    "        nhtaus_lep = ak.num(had_taus)\n",
    "        \n",
    "        jets = event.Jet\n",
    "        overlap_leptons = ak.any(\n",
    "            jets.metric_table(tight_lep) <= 0.4,\n",
    "            axis=2\n",
    "        )\n",
    "        \n",
    "        jet_mask = (\n",
    "            ~overlap_leptons & \n",
    "            (jets.pt>30.0) & \n",
    "            (np.abs(jets.eta) < 4.7) & \n",
    "            (jets.jetId >= 6) # tight JetID 7(2016) and 6(2017/8)\n",
    "        )\n",
    "        \n",
    "        jet_btag = (event.Jet.btagDeepFlavB > btag_id(self.btag_wp, self._era))\n",
    "        \n",
    "        good_jets = jets[~jet_btag & jet_mask]\n",
    "        good_bjet = jets[jet_btag & jet_mask & (np.abs(jets.eta)<2.4)]\n",
    "        \n",
    "        ngood_jets  = ak.num(jets[~jet_btag & jet_mask])\n",
    "        ngood_bjets = ak.num(jets[jet_btag & jet_mask & (np.abs(jets.eta)<2.4)])\n",
    "        \n",
    "        selection.add('0bjets', ngood_bjets ==0 )\n",
    "        selection.add('1bjets', ngood_bjets >=0 ) # at least\n",
    "        selection.add('0njets', ngood_jets  ==0 )\n",
    "        selection.add('1njets', ngood_jets  ==1 )\n",
    "        selection.add('2njets', ngood_jets  >=2 ) # at least\n",
    "        selection.add('0htaus', nhtaus_lep  ==0 ) # veto hadronic taus\n",
    "        \n",
    "        # lepton quantities\n",
    "        def z_lepton_pair(leptons):\n",
    "            pair = ak.combinations(leptons, 2, axis=1, fields=['l1', 'l2'])\n",
    "            mass = (pair.l1 + pair.l2).mass\n",
    "            cand = ak.local_index(mass, axis=1) == ak.argmin(np.abs(mass - self.zmass), axis=1)\n",
    "\n",
    "            extra_lepton = leptons[(\n",
    "                ~ak.any(leptons.metric_table(pair[cand].l1) <= 0.01, axis=2) & \n",
    "                ~ak.any(leptons.metric_table(pair[cand].l2) <= 0.01, axis=2) )\n",
    "            ]\n",
    "            return pair[cand], extra_lepton, cand\n",
    "        \n",
    "        dilep, extra_lep, z_cand_mask = z_lepton_pair(tight_lep)\n",
    "        \n",
    "        lead_lep = ak.firsts(ak.where(dilep.l1.pt >  dilep.l2.pt, dilep.l1, dilep.l2),axis=1)\n",
    "        subl_lep = ak.firsts(ak.where(dilep.l1.pt <= dilep.l2.pt, dilep.l1, dilep.l2),axis=1)\n",
    "        \n",
    "        dilep_p4 = (lead_lep + subl_lep)\n",
    "        dilep_m  = dilep_p4.mass\n",
    "        dilep_pt = dilep_p4.pt\n",
    "        delta_phi_ll_met = dilep_p4.delta_phi(event.MET)\n",
    "        \n",
    "        # high level observables\n",
    "        p4_met = ak.zip(\n",
    "            {\n",
    "                \"pt\": event.MET.pt,\n",
    "                \"eta\": ak.zeros_like(event.MET.pt),\n",
    "                \"phi\": event.MET.phi,\n",
    "                \"mass\": ak.zeros_like(event.MET.pt),\n",
    "                \"charge\": ak.zeros_like(event.MET.pt),\n",
    "            },\n",
    "            with_name=\"PtEtaPhiMCandidate\",\n",
    "            behavior=candidate.behavior,\n",
    "        )\n",
    "        emu_met = ak.firsts(extra_lep, axis=1) + p4_met\n",
    "        \n",
    "        dilep_et = np.sqrt(dilep_pt**2 + dilep_m**2)\n",
    "        dilep_mt = ak.where(\n",
    "            ntight_lep==3,\n",
    "            np.sqrt((dilep_et + emu_met.pt)**2 - (dilep_p4.pvec + emu_met.pvec).p2),\n",
    "            np.sqrt((dilep_et +  p4_met.pt)**2 - (dilep_p4.pvec +  p4_met.pvec).p2)\n",
    "        )\n",
    "        \n",
    "        dphi_ll = lead_lep.delta_phi(subl_lep)\n",
    "        deta_ll = np.abs(lead_lep.eta - subl_lep.eta)\n",
    "        dR_ll   = dilep.l1.delta_r(dilep.l2)\n",
    "        dphi_met_ll    = ak.where(ntight_lep==3, dilep_p4.delta_phi(emu_met), dilep_p4.delta_phi(p4_met))\n",
    "        vector_balance = ak.where(ntight_lep==3, (emu_met - dilep_p4).pt/dilep_p4.pt, (p4_met - dilep_p4).pt/dilep_p4.pt)\n",
    "        scalar_balance = ak.where(ntight_lep==3, emu_met.pt/dilep_p4.pt, p4_met.pt/dilep_p4.pt)\n",
    "        \n",
    "        event['met'     ] = p4_met.pt\n",
    "        event['dilep_mt'] = dilep_mt\n",
    "        event['njets'   ] = ngood_jets\n",
    "        event['bjets'   ] = ngood_bjets\n",
    "        event['dphi_met_ll'] = dphi_met_ll/np.pi\n",
    "        \n",
    "        # build selections\n",
    "        selection.add('2lep', (ntight_lep==2) & (nloose_lep==0) & (ak.firsts(tight_lep).pt>25))\n",
    "        selection.add('3lep', (ntight_lep==3) & (nloose_lep==0) & (ak.firsts(tight_lep).pt>25))\n",
    "        selection.add('4lep', ((ntight_lep + nloose_lep) == 4 ) & (ak.firsts(tight_lep).pt>25))\n",
    "        selection.add('OSSF', ak.fill_none((lead_lep.pdgId + subl_lep.pdgId)==0, False))\n",
    "        selection.add('OF'  , ak.fill_none(np.abs(lead_lep.pdgId) != np.abs(subl_lep.pdgId), False))\n",
    "        \n",
    "        \n",
    "        # kinematic selections\n",
    "        selection.add('dilep_pt'   , ak.fill_none(dilep_pt > 55, False))\n",
    "        selection.add('dilep_m'    , ak.fill_none(np.abs(dilep_m - self.zmass) < 15, False))\n",
    "        selection.add('met'        , ak.fill_none(p4_met.pt > 100, False))\n",
    "        selection.add('low_met'    , ak.fill_none((p4_met.pt> 50) & (p4_met.pt<100), False))\n",
    "        selection.add('dphi_met_ll', ak.fill_none(np.abs(dphi_met_ll) > 0.5, False) )\n",
    "        selection.add('emu_met'    , ak.fill_none(emu_met.pt > 70, False))\n",
    "        selection.add('balance'    , ak.fill_none((scalar_balance>0.4) & (scalar_balance<1.8), False))\n",
    "        \n",
    "        # 2jet and vbs related variables\n",
    "        lead_jet = ak.firsts(jets)\n",
    "        subl_jet = ak.firsts(jets[lead_jet.delta_r(jets)>0.01])\n",
    "        \n",
    "        dijet_mass = (lead_jet + subl_jet).mass\n",
    "        dijet_dphi = lead_jet.delta_phi(subl_jet)\n",
    "        dijet_deta = np.abs(lead_jet.eta - subl_jet.eta)\n",
    "        dijet_zep1 = np.abs(2*lead_lep.eta - (lead_jet.eta + subl_jet.eta))/dijet_deta\n",
    "        dijet_zep2 = np.abs(2*subl_lep.eta - (lead_jet.eta + subl_jet.eta))/dijet_deta\n",
    "\n",
    "        selection.add('dijet_mass_low' , ak.fill_none(dijet_mass > 300, False))\n",
    "        selection.add('dijet_mass'     , ak.fill_none(dijet_mass > 400, False))\n",
    "        selection.add('dijet_mass_bin0', ak.fill_none((dijet_mass >= 400) & (dijet_mass < 800 ), False))\n",
    "        selection.add('dijet_mass_bin1', ak.fill_none((dijet_mass >= 800) & (dijet_mass < 1200), False))\n",
    "        selection.add('dijet_mass_bin2', ak.fill_none((dijet_mass >= 1200), False))\n",
    "        selection.add('dijet_deta'     , ak.fill_none(dijet_deta > 2.5, False))\n",
    "        \n",
    "        # Now adding weights\n",
    "        if not is_data:\n",
    "            weights.add('genweight', event.genWeight)\n",
    "            self._btag.append_btag_sf(jets, weights)\n",
    "            self._purw.append_pileup_weight(weights, event.Pileup.nPU)\n",
    "            _ones = np.ones(len(weights.weight()))\n",
    "            if \"PSWeight\" in event.fields:\n",
    "                theory_ps_weight(weights, event.PSWeight)\n",
    "            else:\n",
    "                theory_ps_weight(weights, None)\n",
    "            if \"LHEPdfWeight\" in event.fields:\n",
    "                theory_pdf_weight(weights, event.LHEPdfWeight)\n",
    "            else:\n",
    "                theory_pdf_weight(weights, None)\n",
    "                \n",
    "            if 'LHEScaleWeight' in event.fields:\n",
    "                weights.add('QCDScale0w'  , _ones, event.LHEScaleWeight[:, 1], event.LHEScaleWeight[:, 7])\n",
    "                weights.add('QCDScale1w'  , _ones, event.LHEScaleWeight[:, 3], event.LHEScaleWeight[:, 5])\n",
    "                weights.add('QCDScale2w'  , _ones, event.LHEScaleWeight[:, 0], event.LHEScaleWeight[:, 8])\n",
    "                \n",
    "            if 'LHEReweightingWeight' in event.fields and 'aQGC' in dataset:\n",
    "                for i in range(1057):\n",
    "                    weights.add(f\"eft_{self._eftnames[i]}\", event.LHEReweightingWeight[:, i])\n",
    "        \n",
    "        # selections\n",
    "        common_sel = ['triggers', 'lumimask', 'metfilter']\n",
    "        dilep_sel = ['2lep', 'OSSF', 'dilep_m', '0bjets', 'dphi_met_ll', '0bjets', '0htaus']\n",
    "        channels = {\n",
    "            # signal regions\n",
    "            'catSR' : common_sel + ['2lep', 'OSSF', 'dilep_m', 'met', 'dphi_met_ll', '0bjets', '0htaus'],\n",
    "            'catSR0': common_sel + ['2lep', 'OSSF', 'dilep_m', 'met', 'dphi_met_ll', '0bjets', '0htaus', '0njets'],\n",
    "            'catSR1': common_sel + ['2lep', 'OSSF', 'dilep_m', 'met', 'dphi_met_ll', '0bjets', '0htaus', '1njets'],\n",
    "            'catSR2': common_sel + ['2lep', 'OSSF', 'dilep_m', 'met', 'dphi_met_ll', '0bjets', '0htaus', '2njets'],\n",
    "            \n",
    "            # control regions\n",
    "            'catDY': common_sel + ['2lep', 'OSSF', 'dilep_m', 'low_met','dphi_met_ll', '0bjets'],\n",
    "            'cat3L': common_sel + ['3lep', 'OSSF', 'dilep_m', 'emu_met','dphi_met_ll', '0bjets'],\n",
    "            'catEM': common_sel + ['2lep', 'OSSF', 'dilep_m', 'low_met','dphi_met_ll', '0bjets'],\n",
    "            'catTT': common_sel + ['2lep', 'OSSF', 'dilep_m', 'low_met','dphi_met_ll', '0bjets'],\n",
    "            'catNR': common_sel + ['2lep', 'OSSF', 'dilep_m', 'low_met','dphi_met_ll', '0bjets'],\n",
    "            \n",
    "            # additional selections\n",
    "            'catSR_VBS': common_sel + ['2lep', 'OSSF', 'dilep_m', 'met'    ,'dphi_met_ll', '0bjets', 'dijet_deta', 'dijet_mass'],\n",
    "            'catDY_VBS': common_sel + ['2lep', 'OSSF', 'dilep_m', 'low_met','dphi_met_ll', '0bjets', 'dijet_deta', 'dijet_mass'],\n",
    "            'catEM_VBS': common_sel + ['2lep', 'OSSF', 'dilep_m', 'low_met','dphi_met_ll', '0bjets', 'dijet_deta', 'dijet_mass'],\n",
    "            'cat3L_VBS': common_sel + ['2lep', 'OSSF', 'dilep_m', 'low_met','dphi_met_ll', '0bjets', 'dijet_deta', 'dijet_mass'],\n",
    "            'catTT_VBS': common_sel + ['2lep', 'OSSF', 'dilep_m', 'low_met','dphi_met_ll', '0bjets', 'dijet_deta', 'dijet_mass'],\n",
    "            'catNR_VBS': common_sel + ['2lep', 'OSSF', 'dilep_m', 'low_met','dphi_met_ll', '0bjets', 'dijet_deta', 'dijet_mass'],\n",
    "            \n",
    "        }\n",
    "        \n",
    "        if shift_name is None:\n",
    "            systematics = [None] + list(weights.variations)\n",
    "        else:\n",
    "            systematics = [shift_name]\n",
    "            \n",
    "        def _format_variable(variable, cut):\n",
    "            if cut is None:\n",
    "                return ak.to_numpy(ak.fill_none(variable, np.nan))\n",
    "            else:\n",
    "                return ak.to_numpy(ak.fill_none(variable[cut], np.nan))\n",
    "        \n",
    "        def _histogram_filler(ch, syst, var, _weight=None):\n",
    "            sel_ = channels[ch]\n",
    "            sel_ = [s for s in sel_ if var not in s]\n",
    "            cut =  selection.all(*sel_)\n",
    "            systname = 'nominal' if syst is None else syst\n",
    "            \n",
    "            if _weight is None: \n",
    "                if syst in weights.variations:\n",
    "                    weight = weights.weight(modifier=syst)[cut]\n",
    "                else:\n",
    "                    weight = weights.weight()[cut]\n",
    "            else:\n",
    "                weight = weights.weight()[cut] * _weight[cut]\n",
    "            \n",
    "            histos[var].fill(\n",
    "                **{\n",
    "                    \"channel\": ch, \n",
    "                    \"systematic\": systname, \n",
    "                    var: _format_variable(event[var], cut), \n",
    "                    \"weight\": weight,\n",
    "                }\n",
    "            )\n",
    "                \n",
    "            \n",
    "        for ch in channels:\n",
    "            cut = selection.all(*channels[ch])\n",
    "            for sys in systematics:\n",
    "                _histogram_filler(ch, sys, 'met')\n",
    "                _histogram_filler(ch, sys, 'dilep_mt')\n",
    "                _histogram_filler(ch, sys, 'njets')\n",
    "                _histogram_filler(ch, sys, 'bjets')\n",
    "                _histogram_filler(ch, sys, 'dphi_met_ll')\n",
    "                \n",
    "        return {dataset: histos}\n",
    "        \n",
    "    def process(self, event: processor.LazyDataFrame):\n",
    "        dataset_name = event.metadata['dataset']\n",
    "        is_data = event.metadata.get(\"is_data\")\n",
    "        \n",
    "        if is_data:\n",
    "            # HEM15/16 issue\n",
    "            if self._era == \"2018\":\n",
    "                _runid = (event.run >= 319077)\n",
    "                jets = event.Jet\n",
    "                j_mask = ak.where((jets.phi > -1.57) & (jets.phi < -0.87) &\n",
    "                                  (jets.eta > -2.50) & (jets.eta <  1.30) & \n",
    "                                  _runid, 0.8, 1)\n",
    "            \n",
    "                jets['pt']   = j_mask * jets.pt\n",
    "                jets['mass'] = j_mask * jets.mass\n",
    "                event = ak.with_field(event, jets, 'Jet')\n",
    "                \n",
    "            return self.process_shift(event, None)\n",
    "        \n",
    "        # x-y met shit corrections\n",
    "        # for the moment I am replacing the met with the corrected met \n",
    "        # before doing the JES/JER corrections\n",
    "        \n",
    "        run = event.run \n",
    "        npv = event.PV.npvs\n",
    "        met = event.MET\n",
    "        \n",
    "        met = met_phi_xy_correction(\n",
    "            event.MET, run, npv, \n",
    "            is_mc=not is_data, \n",
    "            era=self._era\n",
    "        )\n",
    "        event = ak.with_field(event, met, 'MET')\n",
    "\n",
    "        \n",
    "        # JES/JER corrections\n",
    "        jets = self._jmeu.corrected_jets(event.Jet, event.fixedGridRhoFastjetAll, event.caches[0])\n",
    "        met  = self._jmeu.corrected_met(event.MET, jets, event.fixedGridRhoFastjetAll, event.caches[0])\n",
    "        \n",
    "        \n",
    "        \n",
    "        \n",
    "        # define all the shifts\n",
    "        shifts = [\n",
    "            ({\"Jet\": jets               , \"MET\": met                }, None     ),\n",
    "            ({\"Jet\": jets.JES_Total.up  , \"MET\": met.JES_Total.up   }, \"JESUp\"  ),\n",
    "            ({\"Jet\": jets.JES_Total.down, \"MET\": met.JES_Total.down }, \"JESDown\"),\n",
    "            ({\"Jet\": jets.JER.up        , \"MET\": met.JER.up         }, \"JERUp\"  ),\n",
    "            ({\"Jet\": jets.JER.down      , \"MET\": met.JER.down       }, \"JERDown\"),\n",
    "            ({\"Jet\": jets, \"MET\": met.MET_UnclusteredEnergy.up      }, \"UESUp\"  ),\n",
    "            ({\"Jet\": jets, \"MET\": met.MET_UnclusteredEnergy.down    }, \"UESDown\"),\n",
    "        ]\n",
    "            \n",
    "        \n",
    "        \n",
    "        shifts = [\n",
    "            self.process_shift(\n",
    "                update_collection(event, collections), \n",
    "                name\n",
    "            ) for collections, name in shifts\n",
    "        ]\n",
    "        return processor.accumulate(shifts)\n",
    "    \n",
    "    def postprocess(self, accumulator):\n",
    "        return accumulator"
   ]
  },
  {
   "cell_type": "code",
   "execution_count": 18,
   "id": "6711bed3-4809-43d6-a0d0-9dbde2ec0cdb",
   "metadata": {},
   "outputs": [
    {
     "data": {
      "application/vnd.jupyter.widget-view+json": {
       "model_id": "642c0a2ba75e4a6395e821d6de064d04",
       "version_major": 2,
       "version_minor": 0
      },
      "text/plain": [
       "Output()"
      ]
     },
     "metadata": {},
     "output_type": "display_data"
    },
    {
     "name": "stdout",
     "output_type": "stream",
     "text": [
      "jets.pt        : [[537, 131, 90.6, 40.8, 31, 24.9], [144, ... [528, 260, 136, 26.7, 21.6, 17, 15.2]]\n",
      "jets.rawFactor : [[0.083, 0.0498, 0.0454, 0.0396, 0.0518, ... 0.0527, 0.131, -0.0249, -0.312, -0.01]]\n",
      "jets.pt        : jets[pt_raw]   : [[492, 125, 86.5, 39.2, 29.4, 23.6], ... [487, 240, 129, 23.2, 22.1, 22.4, 15.4]]\n",
      "jets.pt        : [[278, 238, 24.2, 18, 16.1, 16, 15.4], ... 35.9, 24.8, 20.5, 16.5, 15.9, 15.9, 15.1]]\n",
      "jets.rawFactor : [[0.0703, 0.111, 0.114, -0.00659, -0.297, ... -0.266, -0.355, -0.305, -0.012]]\n",
      "[[200, 132, 121, 63.1, 58.7, 17.4], ... 46.2, 28, 23.2, 18.1, 17.8, 17.8, 15.9]]jets.pt        :\n",
      "jets.rawFactor :  jets[pt_raw]   : [[258, 211, 21.5, 18.2, 20.9, 16.2, 16.4, ... 36.9, 19.8, 20.8, 21.5, 20.7, 15.3]]\n",
      "[[0.117, 0.0464, 0.0259, -0.0898, -0.0126, ... 0.0283, 0.129, -0.23, -0.406]]\n",
      "jets[pt_raw]   : [[177, 126, 118, 68.7, 59.5, 18.4], ... 40.7, 37.2, 24.6, 17.6, 15.5, 21.9, 22.3]]\n",
      "[[69.1, 46, 32.5, 29.2, 26, 23.3, 21.1, ... 22, 19.5, 18.9, 17, 16.9, 16.6, 15.9]]\n",
      "jets.rawFactor : [[0.0723, -0.0188, -0.23, -0.000809, -0.141, ... -0.262, -0.383, -0.236, -0.236]]\n",
      "jets[pt_raw]   : [[64.1, 46.9, 40, 29.3, 29.7, 30.3, 23, ... 19.3, 30.4, 21.5, 23.3, 20.5, 19.7]]\n",
      "jets.pt        : [[540, 132, 92.2, 41.1, 31.7, 23.9], ... [530, 261, 137, 28.2, 22.1, 16.8, 15.1]]\n",
      "jets.rawFactor : [[0.083, 0.0498, 0.0454, 0.0396, 0.0518, ... 0.0527, 0.131, -0.0249, -0.312, -0.01]]\n",
      "jets[pt_raw]   : [[496, 126, 88, 39.5, 30, 22.6], [129, ... [490, 242, 130, 24.5, 22.7, 22, 15.3]]\n",
      "jets.pt        : jets.pt        : jets.pt        : [[203, 133, 123, 62.2, 59.3, 15.8], ... 47.8, 28.1, 23.2, 13.3, 13.2, 18, 16.5]]\n",
      "jets.rawFactor : [[0.117, 0.0464, 0.0259, -0.0898, -0.0126, ... 0.0283, 0.129, -0.23, -0.406]]\n",
      "jets[pt_raw]   : [[179, 127, 120, 67.8, 60, 16.8], ... 42.1, 37.4, 24.5, 13, 11.5, 22.2, 23.2]]\n",
      "[[280, 237, 24.9, 19.7, 15.8, 15.4, 13.5, ... 36.9, 24.8, 20.6, 11.8, 5.7, 15.6, 13]]\n",
      "jets.rawFactor : [[0.0703, 0.111, 0.114, -0.00659, -0.297, ... -0.266, -0.355, -0.305, -0.012]]\n",
      "jets[pt_raw]   : [[261, 211, 22.1, 19.8, 20.4, 15.6, 14.3, ... 37, 19.9, 14.9, 7.73, 20.3, 13.1]]\n",
      "[[70.9, 46.3, 32.1, 28.8, 25.4, 24.8, 20.9, ... 20.8, 19.6, 14.4, 12.7, 10.9, 18.6]]\n",
      "jets.rawFactor : [[0.0723, -0.0188, -0.23, -0.000809, -0.141, ... -0.262, -0.383, -0.236, -0.236]]\n",
      "jets[pt_raw]   : [[65.8, 47.2, 39.5, 28.8, 29, 32.3, 22.7, ... 20.6, 31.6, 18.1, 17.5, 13.5, 23]]\n"
     ]
    },
    {
     "name": "stderr",
     "output_type": "stream",
     "text": [
      "/opt/conda/lib/python3.8/site-packages/awkward/_connect/_numpy.py:195: RuntimeWarning: invalid value encountered in sqrt\n",
      "  result = getattr(ufunc, method)(\n",
      "/opt/conda/lib/python3.8/site-packages/awkward/_connect/_numpy.py:195: RuntimeWarning: invalid value encountered in sqrt\n",
      "  result = getattr(ufunc, method)(\n",
      "/opt/conda/lib/python3.8/site-packages/awkward/_connect/_numpy.py:195: RuntimeWarning: invalid value encountered in sqrt\n",
      "  result = getattr(ufunc, method)(\n",
      "/opt/conda/lib/python3.8/site-packages/awkward/_connect/_numpy.py:195: RuntimeWarning: invalid value encountered in sqrt\n",
      "  result = getattr(ufunc, method)(\n"
     ]
    },
    {
     "data": {
      "text/html": [
       "<pre style=\"white-space:pre;overflow-x:auto;line-height:normal;font-family:Menlo,'DejaVu Sans Mono',consolas,'Courier New',monospace\"></pre>\n"
      ],
      "text/plain": []
     },
     "metadata": {},
     "output_type": "display_data"
    },
    {
     "data": {
      "text/html": [
       "<pre style=\"white-space:pre;overflow-x:auto;line-height:normal;font-family:Menlo,'DejaVu Sans Mono',consolas,'Courier New',monospace\">\n",
       "</pre>\n"
      ],
      "text/plain": [
       "\n"
      ]
     },
     "metadata": {},
     "output_type": "display_data"
    },
    {
     "data": {
      "text/plain": [
       "{'EWK_ZZ2l2nu': {'dphi_met_ll': Hist(\n",
       "    StrCategory(['catSR', 'catSR0', 'catSR1', 'catSR2', 'catDY', 'catEM', 'catTT', 'catNR', 'catSR_VBS', 'catDY_VBS', 'catEM_VBS', 'cat3L_VBS', 'catTT_VBS', 'catNR_VBS', 'cat3L'], growth=True, name='channel', label='channel'),\n",
       "    StrCategory(['nominal', 'pileup_weightUp', 'btag_sf_bc_correlatedUp', 'aS_weightUp', 'UEPS_ISRDown', 'QCDScale0wUp', 'btag_sf_bc_2018Up', 'btag_sf_bc_correlatedDown', 'QCDScale1wDown', 'QCDScale2wUp', 'PDFaS_weightDown', 'PDF_weightUp', 'QCDScale1wUp', 'btag_sf_statDown', 'PDFaS_weightUp', 'UEPS_FSRUp', 'btag_sf_statUp', 'QCDScale2wDown', 'PDF_weightDown', 'QCDScale0wDown', 'btag_sf_light_2018Down', 'btag_sf_bc_2018Down', 'btag_sf_light_2018Up', 'btag_sf_light_correlatedUp', 'btag_sf_light_correlatedDown', 'UEPS_FSRDown', 'aS_weightDown', 'UEPS_ISRUp', 'pileup_weightDown', 'JESUp', 'JESDown', 'JERUp', 'JERDown', 'UESUp', 'UESDown'], growth=True, name='systematic', label='systematic'),\n",
       "    Regular(50, 0, 1, name='dphi_met_ll', label='$\\\\Delta \\\\phi(\\\\ell\\\\ell,\\x0bec p_{T}^{miss})/\\\\pi$'),\n",
       "    storage=Weight()) # Sum: WeightedSum(value=1.19975e+06, variance=1.27792e+06) (WeightedSum(value=2.37658e+06, variance=2.49902e+06) with flow),\n",
       "  'njets': Hist(\n",
       "    StrCategory(['catSR', 'catSR0', 'catSR1', 'catSR2', 'catDY', 'catEM', 'catTT', 'catNR', 'catSR_VBS', 'catDY_VBS', 'catEM_VBS', 'cat3L_VBS', 'catTT_VBS', 'catNR_VBS', 'cat3L'], growth=True, name='channel', label='channel'),\n",
       "    StrCategory(['nominal', 'pileup_weightUp', 'btag_sf_bc_correlatedUp', 'aS_weightUp', 'UEPS_ISRDown', 'QCDScale0wUp', 'btag_sf_bc_2018Up', 'btag_sf_bc_correlatedDown', 'QCDScale1wDown', 'QCDScale2wUp', 'PDFaS_weightDown', 'PDF_weightUp', 'QCDScale1wUp', 'btag_sf_statDown', 'PDFaS_weightUp', 'UEPS_FSRUp', 'btag_sf_statUp', 'QCDScale2wDown', 'PDF_weightDown', 'QCDScale0wDown', 'btag_sf_light_2018Down', 'btag_sf_bc_2018Down', 'btag_sf_light_2018Up', 'btag_sf_light_correlatedUp', 'btag_sf_light_correlatedDown', 'UEPS_FSRDown', 'aS_weightDown', 'UEPS_ISRUp', 'pileup_weightDown', 'JESUp', 'JESDown', 'JERUp', 'JERDown', 'UESUp', 'UESDown'], growth=True, name='systematic', label='systematic'),\n",
       "    Regular(5, 0, 5, name='njets', label='$N_{jet}$ ($p_{T}>30$ GeV)'),\n",
       "    storage=Weight()) # Sum: WeightedSum(value=2.71546e+06, variance=2.84587e+06) (WeightedSum(value=2.75528e+06, variance=2.8859e+06) with flow),\n",
       "  'bjets': Hist(\n",
       "    StrCategory(['catSR', 'catSR0', 'catSR1', 'catSR2', 'catDY', 'catEM', 'catTT', 'catNR', 'catSR_VBS', 'catDY_VBS', 'catEM_VBS', 'cat3L_VBS', 'catTT_VBS', 'catNR_VBS', 'cat3L'], growth=True, name='channel', label='channel'),\n",
       "    StrCategory(['nominal', 'pileup_weightUp', 'btag_sf_bc_correlatedUp', 'aS_weightUp', 'UEPS_ISRDown', 'QCDScale0wUp', 'btag_sf_bc_2018Up', 'btag_sf_bc_correlatedDown', 'QCDScale1wDown', 'QCDScale2wUp', 'PDFaS_weightDown', 'PDF_weightUp', 'QCDScale1wUp', 'btag_sf_statDown', 'PDFaS_weightUp', 'UEPS_FSRUp', 'btag_sf_statUp', 'QCDScale2wDown', 'PDF_weightDown', 'QCDScale0wDown', 'btag_sf_light_2018Down', 'btag_sf_bc_2018Down', 'btag_sf_light_2018Up', 'btag_sf_light_correlatedUp', 'btag_sf_light_correlatedDown', 'UEPS_FSRDown', 'aS_weightDown', 'UEPS_ISRUp', 'pileup_weightDown', 'JESUp', 'JESDown', 'JERUp', 'JERDown', 'UESUp', 'UESDown'], growth=True, name='systematic', label='systematic'),\n",
       "    Regular(5, 0, 5, name='bjets', label='$N_{b-jet}$ ($p_{T}>30$ GeV)'),\n",
       "    storage=Weight()) # Sum: WeightedSum(value=2.26506e+06, variance=2.45541e+06),\n",
       "  'dilep_mt': Hist(\n",
       "    StrCategory(['catSR', 'catSR0', 'catSR1', 'catSR2', 'catDY', 'catEM', 'catTT', 'catNR', 'catSR_VBS', 'catDY_VBS', 'catEM_VBS', 'cat3L_VBS', 'catTT_VBS', 'catNR_VBS', 'cat3L'], growth=True, name='channel', label='channel'),\n",
       "    StrCategory(['nominal', 'pileup_weightUp', 'btag_sf_bc_correlatedUp', 'aS_weightUp', 'UEPS_ISRDown', 'QCDScale0wUp', 'btag_sf_bc_2018Up', 'btag_sf_bc_correlatedDown', 'QCDScale1wDown', 'QCDScale2wUp', 'PDFaS_weightDown', 'PDF_weightUp', 'QCDScale1wUp', 'btag_sf_statDown', 'PDFaS_weightUp', 'UEPS_FSRUp', 'btag_sf_statUp', 'QCDScale2wDown', 'PDF_weightDown', 'QCDScale0wDown', 'btag_sf_light_2018Down', 'btag_sf_bc_2018Down', 'btag_sf_light_2018Up', 'btag_sf_light_correlatedUp', 'btag_sf_light_correlatedDown', 'UEPS_FSRDown', 'aS_weightDown', 'UEPS_ISRUp', 'pileup_weightDown', 'JESUp', 'JESDown', 'JERUp', 'JERDown', 'UESUp', 'UESDown'], growth=True, name='systematic', label='systematic'),\n",
       "    Regular(50, 0, 1000, name='dilep_mt', label='$M_{T}$ (GeV)'),\n",
       "    storage=Weight()) # Sum: WeightedSum(value=1.40103e+06, variance=1.45839e+06) (WeightedSum(value=2.11323e+06, variance=2.22469e+06) with flow),\n",
       "  'met': Hist(\n",
       "    StrCategory(['catSR', 'catSR0', 'catSR1', 'catSR2', 'catDY', 'catEM', 'catTT', 'catNR', 'catSR_VBS', 'catDY_VBS', 'catEM_VBS', 'cat3L_VBS', 'catTT_VBS', 'catNR_VBS', 'cat3L'], growth=True, name='channel', label='channel'),\n",
       "    StrCategory(['nominal', 'pileup_weightUp', 'btag_sf_bc_correlatedUp', 'aS_weightUp', 'UEPS_ISRDown', 'QCDScale0wUp', 'btag_sf_bc_2018Up', 'btag_sf_bc_correlatedDown', 'QCDScale1wDown', 'QCDScale2wUp', 'PDFaS_weightDown', 'PDF_weightUp', 'QCDScale1wUp', 'btag_sf_statDown', 'PDFaS_weightUp', 'UEPS_FSRUp', 'btag_sf_statUp', 'QCDScale2wDown', 'PDF_weightDown', 'QCDScale0wDown', 'btag_sf_light_2018Down', 'btag_sf_bc_2018Down', 'btag_sf_light_2018Up', 'btag_sf_light_correlatedUp', 'btag_sf_light_correlatedDown', 'UEPS_FSRDown', 'aS_weightDown', 'UEPS_ISRUp', 'pileup_weightDown', 'JESUp', 'JESDown', 'JERUp', 'JERDown', 'UESUp', 'UESDown'], growth=True, name='systematic', label='systematic'),\n",
       "    Regular(50, 0, 1000, name='met', label='$p_{T}^{miss}$ (GeV)'),\n",
       "    storage=Weight()) # Sum: WeightedSum(value=6.71634e+06, variance=7.02575e+06) (WeightedSum(value=6.71856e+06, variance=7.02793e+06) with flow)}}"
      ]
     },
     "execution_count": 18,
     "metadata": {},
     "output_type": "execute_result"
    }
   ],
   "source": [
    "samples = {\n",
    "    \"EWK_ZZ2l2nu\":{\n",
    "        \"files\": [\n",
    "            'root://xcache//store/mc/RunIISummer20UL18NanoAODv2/ZZJJ_ZZTo2L2Nu_EWK_dipoleRecoil_TuneCP5_13TeV-madgraph-pythia8/NANOAODSIM/106X_upgrade2018_realistic_v15_L1v1-v1/50000/ED04D8AC-1917-CD4E-A589-E69D63DBD831.root',\n",
    "            'root://xcache//store/mc/RunIISummer20UL18NanoAODv2/ZZJJ_ZZTo2L2Nu_EWK_dipoleRecoil_TuneCP5_13TeV-madgraph-pythia8/NANOAODSIM/106X_upgrade2018_realistic_v15_L1v1-v1/40000/C202E3C6-05C1-724C-8CBF-321C626F75A7.root',\n",
    "            'root://xcache//store/mc/RunIISummer20UL18NanoAODv2/ZZJJ_ZZTo2L2Nu_EWK_dipoleRecoil_TuneCP5_13TeV-madgraph-pythia8/NANOAODSIM/106X_upgrade2018_realistic_v15_L1v1-v1/40000/524BC2B2-8B2A-AF44-9B51-B5DF2ED6B7CD.root',\n",
    "            'root://xcache//store/mc/RunIISummer20UL18NanoAODv2/ZZJJ_ZZTo2L2Nu_EWK_dipoleRecoil_TuneCP5_13TeV-madgraph-pythia8/NANOAODSIM/106X_upgrade2018_realistic_v15_L1v1-v1/40000/9C88D6E1-C197-4045-A5D4-CF9C5C786DBB.root',\n",
    "        ],\n",
    "        \"metadata\":{\n",
    "            'era': '2018',\n",
    "            'is_data': False\n",
    "        },\n",
    "    },\n",
    "    # \"ZZ2l2nu\":{\n",
    "    #     \"files\": [\n",
    "    #         'root://xcache//store/mc/RunIISummer20UL18NanoAODv9/ZZTo2L2Nu_TuneCP5_13TeV_powheg_pythia8/NANOAODSIM/106X_upgrade2018_realistic_v16_L1v1-v1/280000/B44EC66D-0E98-7B4C-9F5A-91EE62DC4A6F.root',\n",
    "    #         'root://xcache//store/mc/RunIISummer20UL18NanoAODv9/ZZTo2L2Nu_TuneCP5_13TeV_powheg_pythia8/NANOAODSIM/106X_upgrade2018_realistic_v16_L1v1-v1/280000/462B7F18-87C0-1F4E-A887-CD04EAFDB58C.root',\n",
    "    #         'root://xcache//store/mc/RunIISummer20UL18NanoAODv9/ZZTo2L2Nu_TuneCP5_13TeV_powheg_pythia8/NANOAODSIM/106X_upgrade2018_realistic_v16_L1v1-v1/280000/CE747000-E35D-2E44-939F-AA5419FE431F.root',\n",
    "    #         'root://xcache//store/mc/RunIISummer20UL18NanoAODv9/ZZTo2L2Nu_TuneCP5_13TeV_powheg_pythia8/NANOAODSIM/106X_upgrade2018_realistic_v16_L1v1-v1/280000/2645F2C0-F230-3448-A401-9BD490D2735B.root',\n",
    "    #     ],\n",
    "    #     \"metadata\":{\n",
    "    #         'era': '2018',\n",
    "    #         'is_data': False\n",
    "    #     },\n",
    "    # }, \n",
    "    # \"DoubleMuon\": {\n",
    "    #     \"files\": [\n",
    "    #         'root://xcache//store/data/Run2018C/DoubleMuon/NANOAOD/UL2018_MiniAODv2_NanoAODv9-v1/130000/BEC3C6F4-9380-E040-9C59-9463BF55F2C1.root',\n",
    "    #         'root://xcache//store/data/Run2018C/DoubleMuon/NANOAOD/UL2018_MiniAODv2_NanoAODv9-v1/130000/DFBE6815-4CA5-CF43-A85D-DAA41A4D3C6F.root',\n",
    "    #         'root://xcache//store/data/Run2018C/DoubleMuon/NANOAOD/UL2018_MiniAODv2_NanoAODv9-v1/130000/AB8372D5-3DCC-BD4A-9CBF-B4A8770A5E7B.root',\n",
    "    #         'root://xcache//store/data/Run2018C/DoubleMuon/NANOAOD/UL2018_MiniAODv2_NanoAODv9-v1/130000/FC66BB99-B6C3-6C47-97B1-2654220B4D73.root',\n",
    "    #     ],\n",
    "    #     \"metadata\": {\n",
    "    #         'era': '2018',\n",
    "    #         'is_data': True\n",
    "    #     },\n",
    "    # }, \n",
    "    # \"SingleMuon\": {\n",
    "    #     \"files\": [\n",
    "    #         'root://xcache//store/data/Run2018B/SingleMuon/NANOAOD/UL2018_MiniAODv2_NanoAODv9-v2/250000/C9C5FC6F-C8D6-FE48-B06B-2FFAC1322796.root',\n",
    "    #         'root://xcache//store/data/Run2018B/SingleMuon/NANOAOD/UL2018_MiniAODv2_NanoAODv9-v2/250000/D5841F31-1C3B-5245-859D-5E23369A58C5.root',\n",
    "    #         'root://xcache//store/data/Run2018B/SingleMuon/NANOAOD/UL2018_MiniAODv2_NanoAODv9-v2/250000/2A561E4B-70D2-F343-A895-58E5B387E556.root',\n",
    "    #         'root://xcache//store/data/Run2018B/SingleMuon/NANOAOD/UL2018_MiniAODv2_NanoAODv9-v2/250000/62382660-C188-C14B-B3A9-3763960A7ECD.root',\n",
    "    #     ],\n",
    "    #     \"metadata\": {\n",
    "    #         'era': '2018',\n",
    "    #         'is_data': True\n",
    "    #     },\n",
    "    # }\n",
    "}\n",
    "\n",
    "out_btag = processor.run_uproot_job(\n",
    "    samples,\n",
    "    processor_instance=zzinc_processor(),\n",
    "    treename='Events',\n",
    "    executor=processor.futures_executor,\n",
    "    executor_args={\n",
    "        \"schema\": nanoevents.NanoAODSchema,\n",
    "        \"workers\": 5\n",
    "    },\n",
    "    # chunksize=100,\n",
    ")\n",
    "out_btag"
   ]
  },
  {
   "cell_type": "code",
   "execution_count": 11,
   "id": "e8b9b51f-4054-487b-a3e0-8e8da202fb00",
   "metadata": {},
   "outputs": [
    {
     "ename": "KeyError",
     "evalue": "'ZZ2l2nu'",
     "output_type": "error",
     "traceback": [
      "\u001b[0;31m---------------------------------------------------------------------------\u001b[0m",
      "\u001b[0;31mKeyError\u001b[0m                                  Traceback (most recent call last)",
      "Input \u001b[0;32mIn [11]\u001b[0m, in \u001b[0;36m<cell line: 1>\u001b[0;34m()\u001b[0m\n\u001b[0;32m----> 1\u001b[0m \u001b[43mout_btag\u001b[49m\u001b[43m[\u001b[49m\u001b[38;5;124;43m'\u001b[39;49m\u001b[38;5;124;43mZZ2l2nu\u001b[39;49m\u001b[38;5;124;43m'\u001b[39;49m\u001b[43m]\u001b[49m[\u001b[38;5;124m'\u001b[39m\u001b[38;5;124mdphi_met_ll\u001b[39m\u001b[38;5;124m'\u001b[39m]\n",
      "\u001b[0;31mKeyError\u001b[0m: 'ZZ2l2nu'"
     ]
    }
   ],
   "source": [
    "out_btag['ZZ2l2nu']['dphi_met_ll']"
   ]
  },
  {
   "cell_type": "code",
   "execution_count": 12,
   "id": "b1ff2065-85cd-44e6-b763-abfe72a92833",
   "metadata": {},
   "outputs": [
    {
     "data": {
      "text/plain": [
       "[StairsArtists(stairs=<matplotlib.patches.StepPatch object at 0x7f6384f1c580>, errorbar=<ErrorbarContainer object of 3 artists>, legend_artist=<ErrorbarContainer object of 3 artists>)]"
      ]
     },
     "execution_count": 12,
     "metadata": {},
     "output_type": "execute_result"
    },
    {
     "data": {
      "image/png": "[encoded data removed]",
      "text/plain": [
       "<Figure size 432x288 with 1 Axes>"
      ]
     },
     "metadata": {
      "needs_background": "light"
     },
     "output_type": "display_data"
    }
   ],
   "source": [
    "# out_btag['ZZ2l2nu']['met'][{'channel': 'catSR', 'systematic': 'nominal'}].plot(density=True)\n",
    "out_btag['EWK_ZZ2l2nu']['met'][{'channel': 'catSR', 'systematic': 'nominal'}].plot(density=True)"
   ]
  },
  {
   "cell_type": "code",
   "execution_count": 21,
   "id": "3ba14fbf-fa1c-4100-a14e-cb6dbac40935",
   "metadata": {},
   "outputs": [
    {
     "data": {
      "text/plain": [
       "[StairsArtists(stairs=<matplotlib.patches.StepPatch object at 0x7f44342a66a0>, errorbar=<ErrorbarContainer object of 3 artists>, legend_artist=<ErrorbarContainer object of 3 artists>)]"
      ]
     },
     "execution_count": 21,
     "metadata": {},
     "output_type": "execute_result"
    },
    {
     "data": {
      "image/png": "[encoded data removed]",
      "text/plain": [
       "<Figure size 432x288 with 1 Axes>"
      ]
     },
     "metadata": {
      "needs_background": "light"
     },
     "output_type": "display_data"
    }
   ],
   "source": [
    "out_btag['ZZ2l2nu']['dphi_met_ll'][{'channel': 'catSR', 'systematic': 'nominal'}].plot(density=True)\n",
    "out_btag['EWK_ZZ2l2nu']['dphi_met_ll'][{'channel': 'catSR', 'systematic': 'nominal'}].plot(density=True)"
   ]
  },
  {
   "cell_type": "code",
   "execution_count": 22,
   "id": "b3320eca-ae44-478b-a922-adb9b1277bb2",
   "metadata": {},
   "outputs": [
    {
     "data": {
      "text/plain": [
       "[StairsArtists(stairs=<matplotlib.patches.StepPatch object at 0x7f443418cfd0>, errorbar=<ErrorbarContainer object of 3 artists>, legend_artist=<ErrorbarContainer object of 3 artists>)]"
      ]
     },
     "execution_count": 22,
     "metadata": {},
     "output_type": "execute_result"
    },
    {
     "data": {
      "image/png": "[encoded data removed]",
      "text/plain": [
       "<Figure size 432x288 with 1 Axes>"
      ]
     },
     "metadata": {
      "needs_background": "light"
     },
     "output_type": "display_data"
    }
   ],
   "source": [
    "out_btag['ZZ2l2nu']['njets'][{'channel': 'catDY', 'systematic': 'nominal'}].plot(density=True)\n",
    "out_btag['EWK_ZZ2l2nu']['njets'][{'channel': 'catDY', 'systematic': 'nominal'}].plot(density=True)"
   ]
  },
  {
   "cell_type": "code",
   "execution_count": 23,
   "id": "cfa286c1-30bc-4f41-a45d-2d27f4d561c0",
   "metadata": {},
   "outputs": [
    {
     "data": {
      "text/plain": [
       "[StairsArtists(stairs=<matplotlib.patches.StepPatch object at 0x7f407ade9580>, errorbar=<ErrorbarContainer object of 3 artists>, legend_artist=<ErrorbarContainer object of 3 artists>)]"
      ]
     },
     "execution_count": 23,
     "metadata": {},
     "output_type": "execute_result"
    },
    {
     "data": {
      "image/png": "[encoded data removed]",
      "text/plain": [
       "<Figure size 432x288 with 1 Axes>"
      ]
     },
     "metadata": {
      "needs_background": "light"
     },
     "output_type": "display_data"
    }
   ],
   "source": [
    "out_btag['ZZ2l2nu']['bjets'][{'channel': 'catDY', 'systematic': 'nominal'}].plot(density=True)\n",
    "out_btag['EWK_ZZ2l2nu']['bjets'][{'channel': 'catDY', 'systematic': 'nominal'}].plot(density=True)"
   ]
  },
  {
   "cell_type": "code",
   "execution_count": 24,
   "id": "979efbb6-ff7f-41e6-8e32-b019221030da",
   "metadata": {},
   "outputs": [
    {
     "data": {
      "image/png": "[encoded data removed]",
      "text/plain": [
       "<Figure size 432x288 with 1 Axes>"
      ]
     },
     "metadata": {
      "needs_background": "light"
     },
     "output_type": "display_data"
    }
   ],
   "source": [
    "out_btag['ZZ2l2nu']['dilep_mt'][{'channel': 'catSR', 'systematic': 'nominal'}].plot()\n",
    "for i in list(out_btag['ZZ2l2nu']['dilep_mt'].axes['systematic']):\n",
    "    out_btag['ZZ2l2nu']['dilep_mt'][{'channel': 'catSR', 'systematic': i}].plot()"
   ]
  },
  {
   "cell_type": "code",
   "execution_count": 25,
   "id": "9183c362-1d84-4452-982e-0b5391eede0d",
   "metadata": {},
   "outputs": [
    {
     "data": {
      "text/plain": [
       "[StairsArtists(stairs=<matplotlib.patches.StepPatch object at 0x7f4433bb9610>, errorbar=<ErrorbarContainer object of 3 artists>, legend_artist=<ErrorbarContainer object of 3 artists>)]"
      ]
     },
     "execution_count": 25,
     "metadata": {},
     "output_type": "execute_result"
    },
    {
     "data": {
      "image/png": "[encoded data removed]",
      "text/plain": [
       "<Figure size 432x288 with 1 Axes>"
      ]
     },
     "metadata": {
      "needs_background": "light"
     },
     "output_type": "display_data"
    }
   ],
   "source": [
    "out_btag['ZZ2l2nu']['dilep_mt'][{'channel': 'catSR', 'systematic': 'nominal'}].plot(density=True)\n",
    "out_btag['EWK_ZZ2l2nu']['dilep_mt'][{'channel': 'catSR', 'systematic': 'nominal'}].plot(density=True)"
   ]
  },
  {
   "cell_type": "code",
   "execution_count": 26,
   "id": "9e258d80-aff1-42d5-b643-8967eab49c05",
   "metadata": {},
   "outputs": [
    {
     "data": {
      "text/plain": [
       "[StairsArtists(stairs=<matplotlib.patches.StepPatch object at 0x7f4434095c10>, errorbar=<ErrorbarContainer object of 3 artists>, legend_artist=<ErrorbarContainer object of 3 artists>)]"
      ]
     },
     "execution_count": 26,
     "metadata": {},
     "output_type": "execute_result"
    },
    {
     "data": {
      "image/png": "[encoded data removed]",
      "text/plain": [
       "<Figure size 432x288 with 1 Axes>"
      ]
     },
     "metadata": {
      "needs_background": "light"
     },
     "output_type": "display_data"
    }
   ],
   "source": [
    "out_btag['ZZ2l2nu']['dilep_mt'][{'channel': 'catSR0', 'systematic': 'nominal'}].plot(density=True)\n",
    "out_btag['ZZ2l2nu']['dilep_mt'][{'channel': 'catSR1', 'systematic': 'nominal'}].plot(density=True)\n",
    "out_btag['ZZ2l2nu']['dilep_mt'][{'channel': 'catSR2', 'systematic': 'nominal'}].plot(density=True)"
   ]
  },
  {
   "cell_type": "code",
   "execution_count": 27,
   "id": "6c2b920c-5b5e-44ff-b721-88a651d75ec7",
   "metadata": {},
   "outputs": [
    {
     "data": {
      "text/plain": [
       "[StairsArtists(stairs=<matplotlib.patches.StepPatch object at 0x7f44338ecac0>, errorbar=<ErrorbarContainer object of 3 artists>, legend_artist=<ErrorbarContainer object of 3 artists>)]"
      ]
     },
     "execution_count": 27,
     "metadata": {},
     "output_type": "execute_result"
    },
    {
     "data": {
      "image/png": "[encoded data removed]",
      "text/plain": [
       "<Figure size 432x288 with 1 Axes>"
      ]
     },
     "metadata": {
      "needs_background": "light"
     },
     "output_type": "display_data"
    }
   ],
   "source": [
    "out_btag['EWK_ZZ2l2nu']['dilep_mt'][{'channel': 'catSR0', 'systematic': 'nominal'}].plot(density=True)\n",
    "out_btag['EWK_ZZ2l2nu']['dilep_mt'][{'channel': 'catSR1', 'systematic': 'nominal'}].plot(density=True)\n",
    "out_btag['EWK_ZZ2l2nu']['dilep_mt'][{'channel': 'catSR2', 'systematic': 'nominal'}].plot(density=True)"
   ]
  },
  {
   "cell_type": "code",
   "execution_count": null,
   "id": "72884788-29ef-4128-bdc5-5d02e0e55c54",
   "metadata": {},
   "outputs": [],
   "source": []
  }
 ],
 "metadata": {
  "kernelspec": {
   "display_name": "Python 3 (ipykernel)",
   "language": "python",
   "name": "python3"
  },
  "language_info": {
   "codemirror_mode": {
    "name": "ipython",
    "version": 3
   },
   "file_extension": ".py",
   "mimetype": "text/x-python",
   "name": "python",
   "nbconvert_exporter": "python",
   "pygments_lexer": "ipython3",
   "version": "3.8.13"
  }
 },
 "nbformat": 4,
 "nbformat_minor": 5
}

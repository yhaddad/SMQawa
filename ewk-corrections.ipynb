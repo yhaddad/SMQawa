{
 "cells": [
  {
   "cell_type": "code",
   "execution_count": 2,
   "id": "442dfec7-4a29-4198-a844-c6106dc21954",
   "metadata": {},
   "outputs": [],
   "source": [
    "import awkward as ak\n",
    "import numpy as np\n",
    "import uproot\n",
    "import vector\n",
    "\n",
    "from coffea import processor\n",
    "from coffea import nanoevents\n",
    "from coffea.nanoevents.methods import candidate\n",
    "from coffea.nanoevents   import NanoEventsFactory, NanoAODSchema\n",
    "from coffea.analysis_tools import Weights, PackedSelection\n",
    "from qawa.common import pileup_weights, ewk_corrector, met_phi_xy_correction, theory_ps_weight, theory_pdf_weight"
   ]
  },
  {
   "cell_type": "code",
   "execution_count": 3,
   "id": "bea93e1e-b887-4895-a380-1993d2e72c11",
   "metadata": {},
   "outputs": [],
   "source": [
    "fname = 'root://xcache//store/mc/RunIISummer20UL18NanoAODv9/ZZTo2L2Nu_TuneCP5_13TeV_powheg_pythia8/NANOAODSIM/106X_upgrade2018_realistic_v16_L1v1-v1/130000/80AE5A11-3998-8141-A11B-55C9EE524378.root'\n",
    "# fname = 'root://xcache//store/mc/RunIISummer20UL18NanoAODv9/WZTo3LNu_TuneCP5_13TeV-amcatnloFXFX-pythia8/NANOAODSIM/106X_upgrade2018_realistic_v16_L1v1-v2/2500000/B99CFD46-B7B6-154A-869F-D839156FA90E.root'\n",
    "# fname = 'root://xcache//store/data/Run2017B/DoubleEG/NANOAOD/UL2017_MiniAODv2_NanoAODv9-v1/70000/4BC53825-C4CC-264D-B251-87375F80A49E.root'\n",
    "# fname = 'root://xcache//store/mc/RunIISummer20UL17NanoAODv2/DYJetsToTauTau_M-50_AtLeastOneEorMuDecay_massWgtFix_TuneCP5_13TeV-powhegMiNNLO-pythia8-photos/NANOAODSIM/106X_mc2017_realistic_v8-v1/110000/49F422B9-E5A4-0348-A1CC-E6A8C38DD390.root'\n",
    "# fname = \"root://eoscms.cern.ch//store/user/biwang/aQGC/ZZ2JTo2L2Nu2J_EWK_aQGC_TuneCP5_13TeV-madgraph-pythia8/NanoAODv9_UL2018_v2/220728_132906/0000/tree_1.root\"\n",
    "\n",
    "events = NanoEventsFactory.from_root(\n",
    "    fname,\n",
    "    schemaclass=NanoAODSchema.v6,\n",
    "    metadata={\"dataset\": \"ZZ2l2nu\"},\n",
    ").events()"
   ]
  },
  {
   "cell_type": "code",
   "execution_count": 4,
   "id": "d8940f9c-5c07-446c-bb64-6702130cdf80",
   "metadata": {},
   "outputs": [
    {
     "data": {
      "text/plain": [
       "0"
      ]
     },
     "execution_count": 4,
     "metadata": {},
     "output_type": "execute_result"
    }
   ],
   "source": [
    "len(events.LHEReweightingWeight[0,:])"
   ]
  },
  {
   "cell_type": "code",
   "execution_count": 5,
   "id": "c05c885b-d8f6-422c-a912-4bac405ddd63",
   "metadata": {},
   "outputs": [
    {
     "data": {
      "text/plain": [
       "27000 * [var * float32[parameters={\"__doc__\": \"LHE scale variation weights (w_var / w_nominal); [0] is renscfact=0.5d0 facscfact=0.5d0 ; [1] is renscfact=0.5d0 facscfact=1d0 ; [2] is renscfact=0.5d0 facscfact=2d0 ; [3] is renscfact=1d0 facscfact=0.5d0 ; [4] is renscfact=1d0 facscfact=1d0 ; [5] is renscfact=1d0 facscfact=2d0 ; [6] is renscfact=2d0 facscfact=0.5d0 ; [7] is renscfact=2d0 facscfact=1d0 ; [8] is renscfact=2d0 facscfact=2d0 \"}], parameters={\"__array__\": \"NanoCollection\", \"collection_name\": \"LHEScaleWeight\"}]"
      ]
     },
     "execution_count": 5,
     "metadata": {},
     "output_type": "execute_result"
    }
   ],
   "source": [
    "events.LHEScaleWeight.type"
   ]
  },
  {
   "cell_type": "code",
   "execution_count": null,
   "id": "4d84ffe9-187b-48bc-824d-eae0e8d12a0e",
   "metadata": {},
   "outputs": [],
   "source": [
    "eff_table"
   ]
  },
  {
   "cell_type": "code",
   "execution_count": 8,
   "id": "aec3722d-4070-4ec5-87d5-ec7085f98e6c",
   "metadata": {},
   "outputs": [
    {
     "name": "stdout",
     "output_type": "stream",
     "text": [
      "['trgSFEEBB;1', 'trgSFEEBE;1', 'trgSFEEEB;1', 'trgSFEEEE;1', 'trgSFEMBB;1', 'trgSFEMBE;1', 'trgSFEMEB;1', 'trgSFEMEE;1', 'trgSFMEBB;1', 'trgSFMEBE;1', 'trgSFMEEB;1', 'trgSFMEEE;1', 'trgSFMMBB;1', 'trgSFMMBE;1', 'trgSFMMEB;1', 'trgSFMMEE;1']\n"
     ]
    },
    {
     "ename": "KeyInFileError",
     "evalue": "not found: 'pu_mc' (with any cycle number)\n\n    Available keys: 'trgSFEMBB;1', 'trgSFEMBE;1', 'trgSFEMEB;1', 'trgSFEMEE;1', 'trgSFMEBB;1', 'trgSFMEBE;1', 'trgSFMEEB;1', 'trgSFMEEE;1', 'trgSFMMBB;1', 'trgSFMMBE;1', 'trgSFMMEB;1', 'trgSFMMEE;1', 'trgSFEEBB;1', 'trgSFEEBE;1'...\n\nin file qawa/data/trigger_sf/histo_triggerEff_sel0_2018.root",
     "output_type": "error",
     "traceback": [
      "\u001b[0;31m---------------------------------------------------------------------------\u001b[0m",
      "\u001b[0;31mKeyInFileError\u001b[0m                            Traceback (most recent call last)",
      "Input \u001b[0;32mIn [8]\u001b[0m, in \u001b[0;36m<cell line: 1>\u001b[0;34m()\u001b[0m\n\u001b[1;32m      1\u001b[0m \u001b[38;5;28;01mwith\u001b[39;00m uproot\u001b[38;5;241m.\u001b[39mopen(\u001b[38;5;124mf\u001b[39m\u001b[38;5;124m\"\u001b[39m\u001b[38;5;124mqawa/data/trigger_sf/histo_triggerEff_sel0_2018.root\u001b[39m\u001b[38;5;124m\"\u001b[39m) \u001b[38;5;28;01mas\u001b[39;00m ifile:\n\u001b[1;32m      2\u001b[0m     \u001b[38;5;28mprint\u001b[39m(ifile\u001b[38;5;241m.\u001b[39mkeys())\n\u001b[0;32m----> 3\u001b[0m     \u001b[38;5;28mself\u001b[39m\u001b[38;5;241m.\u001b[39meff_table \u001b[38;5;241m=\u001b[39m \u001b[43mifile\u001b[49m\u001b[43m[\u001b[49m\u001b[38;5;124;43m'\u001b[39;49m\u001b[38;5;124;43mpu_mc\u001b[39;49m\u001b[38;5;124;43m'\u001b[39;49m\u001b[43m]\u001b[49m\u001b[38;5;241m.\u001b[39mvalues()\n\u001b[1;32m      4\u001b[0m     \u001b[38;5;28mself\u001b[39m\u001b[38;5;241m.\u001b[39meff_table \u001b[38;5;241m=\u001b[39m np\u001b[38;5;241m.\u001b[39minsert(\u001b[38;5;28mself\u001b[39m\u001b[38;5;241m.\u001b[39meff_table,\u001b[38;5;241m0\u001b[39m,\u001b[38;5;241m0.\u001b[39m)\n\u001b[1;32m      5\u001b[0m     \u001b[38;5;28mself\u001b[39m\u001b[38;5;241m.\u001b[39meff_table \u001b[38;5;241m=\u001b[39m \u001b[38;5;28mself\u001b[39m\u001b[38;5;241m.\u001b[39meff_table[:\u001b[38;5;241m-\u001b[39m\u001b[38;5;241m2\u001b[39m]\n",
      "File \u001b[0;32m/opt/conda/lib/python3.8/site-packages/uproot/reading.py:2096\u001b[0m, in \u001b[0;36mReadOnlyDirectory.__getitem__\u001b[0;34m(self, where)\u001b[0m\n\u001b[1;32m   2093\u001b[0m     \u001b[38;5;28;01mreturn\u001b[39;00m step\n\u001b[1;32m   2095\u001b[0m \u001b[38;5;28;01melse\u001b[39;00m:\n\u001b[0;32m-> 2096\u001b[0m     \u001b[38;5;28;01mreturn\u001b[39;00m \u001b[38;5;28;43mself\u001b[39;49m\u001b[38;5;241;43m.\u001b[39;49m\u001b[43mkey\u001b[49m\u001b[43m(\u001b[49m\u001b[43mwhere\u001b[49m\u001b[43m)\u001b[49m\u001b[38;5;241m.\u001b[39mget()\n",
      "File \u001b[0;32m/opt/conda/lib/python3.8/site-packages/uproot/reading.py:2046\u001b[0m, in \u001b[0;36mReadOnlyDirectory.key\u001b[0;34m(self, where)\u001b[0m\n\u001b[1;32m   2044\u001b[0m     \u001b[38;5;28;01mreturn\u001b[39;00m last\n\u001b[1;32m   2045\u001b[0m \u001b[38;5;28;01melif\u001b[39;00m cycle \u001b[38;5;129;01mis\u001b[39;00m \u001b[38;5;28;01mNone\u001b[39;00m:\n\u001b[0;32m-> 2046\u001b[0m     \u001b[38;5;28;01mraise\u001b[39;00m uproot\u001b[38;5;241m.\u001b[39mKeyInFileError(\n\u001b[1;32m   2047\u001b[0m         item, cycle\u001b[38;5;241m=\u001b[39m\u001b[38;5;124m\"\u001b[39m\u001b[38;5;124many\u001b[39m\u001b[38;5;124m\"\u001b[39m, keys\u001b[38;5;241m=\u001b[39m\u001b[38;5;28mself\u001b[39m\u001b[38;5;241m.\u001b[39mkeys(), file_path\u001b[38;5;241m=\u001b[39m\u001b[38;5;28mself\u001b[39m\u001b[38;5;241m.\u001b[39m_file\u001b[38;5;241m.\u001b[39mfile_path\n\u001b[1;32m   2048\u001b[0m     )\n\u001b[1;32m   2049\u001b[0m \u001b[38;5;28;01melse\u001b[39;00m:\n\u001b[1;32m   2050\u001b[0m     \u001b[38;5;28;01mraise\u001b[39;00m uproot\u001b[38;5;241m.\u001b[39mKeyInFileError(\n\u001b[1;32m   2051\u001b[0m         item, cycle\u001b[38;5;241m=\u001b[39mcycle, keys\u001b[38;5;241m=\u001b[39m\u001b[38;5;28mself\u001b[39m\u001b[38;5;241m.\u001b[39mkeys(), file_path\u001b[38;5;241m=\u001b[39m\u001b[38;5;28mself\u001b[39m\u001b[38;5;241m.\u001b[39m_file\u001b[38;5;241m.\u001b[39mfile_path\n\u001b[1;32m   2052\u001b[0m     )\n",
      "\u001b[0;31mKeyInFileError\u001b[0m: not found: 'pu_mc' (with any cycle number)\n\n    Available keys: 'trgSFEMBB;1', 'trgSFEMBE;1', 'trgSFEMEB;1', 'trgSFEMEE;1', 'trgSFMEBB;1', 'trgSFMEBE;1', 'trgSFMEEB;1', 'trgSFMEEE;1', 'trgSFMMBB;1', 'trgSFMMBE;1', 'trgSFMMEB;1', 'trgSFMMEE;1', 'trgSFEEBB;1', 'trgSFEEBE;1'...\n\nin file qawa/data/trigger_sf/histo_triggerEff_sel0_2018.root"
     ]
    }
   ],
   "source": [
    "with uproot.open(f\"qawa/data/trigger_sf/histo_triggerEff_sel0_2018.root\") as ifile:\n",
    "    print(ifile.keys())\n",
    "    self.eff_em_BB = ifile['trgSFEEBB'].values()\n",
    "    self.eff_em_BE = ifile['trgSFEEBE'].values()\n",
    "    self.eff_em_EB = ifile['trgSFEEEB'].values()\n",
    "    self.eff_em_EB = ifile['trgSFEEBB'].values()\n",
    "    self.eff_em_EB = ifile['trgSFEEBB'].values()\n",
    "    self.eff_em_EB = ifile['trgSFEEBB'].values()"
   ]
  },
  {
   "cell_type": "code",
   "execution_count": null,
   "id": "0a3099f5-3e57-488d-887d-ddd78cdb60d3",
   "metadata": {},
   "outputs": [],
   "source": []
  },
  {
   "cell_type": "code",
   "execution_count": null,
   "id": "54bbb279-9829-4806-a4c8-1db0a7590a51",
   "metadata": {},
   "outputs": [],
   "source": []
  },
  {
   "cell_type": "code",
   "execution_count": null,
   "id": "d4da7466-9cfa-4c21-b8c9-20c20a76cd0e",
   "metadata": {},
   "outputs": [],
   "source": []
  },
  {
   "cell_type": "code",
   "execution_count": null,
   "id": "e3535f6a-0ad2-4e92-bd6c-9c878ab8ec1a",
   "metadata": {},
   "outputs": [],
   "source": []
  },
  {
   "cell_type": "code",
   "execution_count": null,
   "id": "597ee5c0-4028-48c3-a1ad-33601cb393cd",
   "metadata": {},
   "outputs": [],
   "source": []
  },
  {
   "cell_type": "code",
   "execution_count": null,
   "id": "8e48f683-ecf2-4090-9533-49afa905b601",
   "metadata": {},
   "outputs": [],
   "source": []
  }
 ],
 "metadata": {
  "kernelspec": {
   "display_name": "Python 3 (ipykernel)",
   "language": "python",
   "name": "python3"
  },
  "language_info": {
   "codemirror_mode": {
    "name": "ipython",
    "version": 3
   },
   "file_extension": ".py",
   "mimetype": "text/x-python",
   "name": "python",
   "nbconvert_exporter": "python",
   "pygments_lexer": "ipython3",
   "version": "3.8.13"
  }
 },
 "nbformat": 4,
 "nbformat_minor": 5
}
